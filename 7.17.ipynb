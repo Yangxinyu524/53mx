{
 "cells": [
  {
   "cell_type": "markdown",
   "metadata": {},
   "source": [
    "# 数学函数、字符串和对象\n",
    "## 本章介绍Python函数来执行常见的数学运算\n",
    "- 函数是完成一个特殊任务的一组语句，可以理解为一个函数相当于一个小功能，但是在开发中，需要注意一个函数的长度最好不要超过一屏\n",
    "- Python中的内置函数是不需要Import导入的\n",
    "<img src=\"../Photo/15.png\"></img>"
   ]
  },
  {
   "cell_type": "code",
   "execution_count": 2,
   "metadata": {},
   "outputs": [
    {
     "data": {
      "text/plain": [
       "10"
      ]
     },
     "execution_count": 2,
     "metadata": {},
     "output_type": "execute_result"
    }
   ],
   "source": [
    "a=-10\n",
    "abs(a)"
   ]
  },
  {
   "cell_type": "code",
   "execution_count": null,
   "metadata": {},
   "outputs": [],
   "source": []
  },
  {
   "cell_type": "code",
   "execution_count": 3,
   "metadata": {},
   "outputs": [
    {
     "data": {
      "text/plain": [
       "3"
      ]
     },
     "execution_count": 3,
     "metadata": {},
     "output_type": "execute_result"
    }
   ],
   "source": [
    "max(1,2,3)"
   ]
  },
  {
   "cell_type": "code",
   "execution_count": 4,
   "metadata": {},
   "outputs": [
    {
     "data": {
      "text/plain": [
       "'c'"
      ]
     },
     "execution_count": 4,
     "metadata": {},
     "output_type": "execute_result"
    }
   ],
   "source": [
    "max('abc')"
   ]
  },
  {
   "cell_type": "code",
   "execution_count": 5,
   "metadata": {},
   "outputs": [
    {
     "data": {
      "text/plain": [
       "1"
      ]
     },
     "execution_count": 5,
     "metadata": {},
     "output_type": "execute_result"
    }
   ],
   "source": [
    "min(1,2,3)"
   ]
  },
  {
   "cell_type": "code",
   "execution_count": 6,
   "metadata": {},
   "outputs": [
    {
     "data": {
      "text/plain": [
       "1.13152"
      ]
     },
     "execution_count": 6,
     "metadata": {},
     "output_type": "execute_result"
    }
   ],
   "source": [
    "round (1.1315164164661,5)"
   ]
  },
  {
   "cell_type": "code",
   "execution_count": 8,
   "metadata": {},
   "outputs": [
    {
     "data": {
      "text/plain": [
       "2"
      ]
     },
     "execution_count": 8,
     "metadata": {},
     "output_type": "execute_result"
    }
   ],
   "source": [
    "round(1.5611691)"
   ]
  },
  {
   "cell_type": "code",
   "execution_count": 9,
   "metadata": {},
   "outputs": [
    {
     "data": {
      "text/plain": [
       "9"
      ]
     },
     "execution_count": 9,
     "metadata": {},
     "output_type": "execute_result"
    }
   ],
   "source": [
    "pow(3,2)"
   ]
  },
  {
   "cell_type": "code",
   "execution_count": 4,
   "metadata": {},
   "outputs": [
    {
     "name": "stdout",
     "output_type": "stream",
     "text": [
      "enter a number between 0 and 1000  200\n",
      "442\n",
      "lose\n"
     ]
    }
   ],
   "source": [
    "import random\n",
    "num=eval(input('enter a number between 0 and 1000  '))\n",
    "a=int(random.randrange(0,1000))\n",
    "print(a)\n",
    "if num>a:\n",
    "    print('win')\n",
    "else:\n",
    "    print('lose')"
   ]
  },
  {
   "cell_type": "code",
   "execution_count": null,
   "metadata": {},
   "outputs": [],
   "source": [
    "import random\n"
   ]
  },
  {
   "cell_type": "markdown",
   "metadata": {},
   "source": [
    "## 尝试练习Python内置函数"
   ]
  },
  {
   "cell_type": "markdown",
   "metadata": {},
   "source": [
    "## Python中的math模块提供了许多数学函数\n",
    "<img src=\"../Photo/16.png\"></img>\n",
    "<img src=\"../Photo/17.png\"></img>\n"
   ]
  },
  {
   "cell_type": "code",
   "execution_count": 25,
   "metadata": {},
   "outputs": [
    {
     "ename": "AttributeError",
     "evalue": "module 'math' has no attribute 'degress'",
     "output_type": "error",
     "traceback": [
      "\u001b[1;31m---------------------------------------------------------------------------\u001b[0m",
      "\u001b[1;31mAttributeError\u001b[0m                            Traceback (most recent call last)",
      "\u001b[1;32m<ipython-input-25-f525096d6092>\u001b[0m in \u001b[0;36m<module>\u001b[1;34m()\u001b[0m\n\u001b[0;32m      1\u001b[0m \u001b[1;32mimport\u001b[0m \u001b[0mmath\u001b[0m\u001b[1;33m\u001b[0m\u001b[0m\n\u001b[1;32m----> 2\u001b[1;33m \u001b[0mmath\u001b[0m\u001b[1;33m.\u001b[0m\u001b[0mdegress\u001b[0m\u001b[1;33m(\u001b[0m\u001b[1;36m60\u001b[0m\u001b[1;33m)\u001b[0m\u001b[1;33m\u001b[0m\u001b[0m\n\u001b[0m",
      "\u001b[1;31mAttributeError\u001b[0m: module 'math' has no attribute 'degress'"
     ]
    }
   ],
   "source": [
    "import math\n",
    "math.degress(60)"
   ]
  },
  {
   "cell_type": "markdown",
   "metadata": {},
   "source": []
  },
  {
   "cell_type": "code",
   "execution_count": 7,
   "metadata": {},
   "outputs": [
    {
     "data": {
      "text/plain": [
       "5.0"
      ]
     },
     "execution_count": 7,
     "metadata": {},
     "output_type": "execute_result"
    }
   ],
   "source": [
    "import math\n",
    "math.fabs(-5)"
   ]
  },
  {
   "cell_type": "code",
   "execution_count": 13,
   "metadata": {},
   "outputs": [
    {
     "ename": "OverflowError",
     "evalue": "math range error",
     "output_type": "error",
     "traceback": [
      "\u001b[1;31m---------------------------------------------------------------------------\u001b[0m",
      "\u001b[1;31mOverflowError\u001b[0m                             Traceback (most recent call last)",
      "\u001b[1;32m<ipython-input-13-31519c491d10>\u001b[0m in \u001b[0;36m<module>\u001b[1;34m()\u001b[0m\n\u001b[0;32m      1\u001b[0m \u001b[1;32mimport\u001b[0m \u001b[0mmath\u001b[0m\u001b[1;33m\u001b[0m\u001b[0m\n\u001b[1;32m----> 2\u001b[1;33m \u001b[0mmath\u001b[0m\u001b[1;33m.\u001b[0m\u001b[0mexp\u001b[0m\u001b[1;33m(\u001b[0m\u001b[1;36m1000\u001b[0m\u001b[1;33m)\u001b[0m\u001b[1;33m\u001b[0m\u001b[0m\n\u001b[0m",
      "\u001b[1;31mOverflowError\u001b[0m: math range error"
     ]
    }
   ],
   "source": [
    "import math\n",
    "math.exp(1000)"
   ]
  },
  {
   "cell_type": "code",
   "execution_count": 14,
   "metadata": {},
   "outputs": [
    {
     "name": "stdout",
     "output_type": "stream",
     "text": [
      "0.09375166893005371\n"
     ]
    }
   ],
   "source": [
    "import time\n",
    "start=time.time()\n",
    "num=0\n",
    "for i in range(1000000):\n",
    "    num +=i\n",
    "end=time.time()\n",
    "print(end-start)"
   ]
  },
  {
   "cell_type": "markdown",
   "metadata": {},
   "source": []
  },
  {
   "cell_type": "code",
   "execution_count": 16,
   "metadata": {},
   "outputs": [
    {
     "ename": "NameError",
     "evalue": "name 'log' is not defined",
     "output_type": "error",
     "traceback": [
      "\u001b[1;31m---------------------------------------------------------------------------\u001b[0m",
      "\u001b[1;31mNameError\u001b[0m                                 Traceback (most recent call last)",
      "\u001b[1;32m<ipython-input-16-e264a637c03f>\u001b[0m in \u001b[0;36m<module>\u001b[1;34m()\u001b[0m\n\u001b[0;32m      2\u001b[0m \u001b[0ma\u001b[0m\u001b[1;33m=\u001b[0m\u001b[1;36m2\u001b[0m\u001b[1;33m\u001b[0m\u001b[0m\n\u001b[0;32m      3\u001b[0m \u001b[0my\u001b[0m\u001b[1;33m=\u001b[0m\u001b[1;36m0\u001b[0m\u001b[1;33m\u001b[0m\u001b[0m\n\u001b[1;32m----> 4\u001b[1;33m \u001b[0mL\u001b[0m \u001b[1;33m=\u001b[0m \u001b[1;33m-\u001b[0m\u001b[1;33m(\u001b[0m\u001b[0my\u001b[0m\u001b[1;33m*\u001b[0m\u001b[0mlog\u001b[0m\u001b[1;33m(\u001b[0m\u001b[0ma\u001b[0m\u001b[1;33m)\u001b[0m\u001b[1;33m+\u001b[0m\u001b[1;33m(\u001b[0m\u001b[1;36m1\u001b[0m\u001b[1;33m-\u001b[0m\u001b[0my\u001b[0m\u001b[1;33m)\u001b[0m\u001b[1;33m*\u001b[0m\u001b[0mlog\u001b[0m\u001b[1;33m(\u001b[0m\u001b[1;36m1\u001b[0m\u001b[1;33m-\u001b[0m\u001b[0ma\u001b[0m\u001b[1;33m)\u001b[0m\u001b[1;33m)\u001b[0m\u001b[1;33m\u001b[0m\u001b[0m\n\u001b[0m\u001b[0;32m      5\u001b[0m \u001b[0mprint\u001b[0m\u001b[1;33m(\u001b[0m\u001b[0my\u001b[0m\u001b[1;33m)\u001b[0m\u001b[1;33m\u001b[0m\u001b[0m\n",
      "\u001b[1;31mNameError\u001b[0m: name 'log' is not defined"
     ]
    }
   ],
   "source": [
    "import random\n",
    "a=2\n",
    "y=0\n",
    "L = -(y*log(a)+(1-y)*log(1-a))\n",
    "print(y)"
   ]
  },
  {
   "cell_type": "markdown",
   "metadata": {},
   "source": [
    "## 两个数学常量PI和e，可以通过使用math.pi 和math.e调用"
   ]
  },
  {
   "cell_type": "markdown",
   "metadata": {},
   "source": [
    "## EP:\n",
    "- 通过math库，写一个程序，使得用户输入三个顶点(x,y)返回三个角度\n",
    "- 注意：Python计算角度为弧度制，需要将其转换为角度\n",
    "<img src=\"../Photo/18.png\">"
   ]
  },
  {
   "cell_type": "code",
   "execution_count": null,
   "metadata": {},
   "outputs": [],
   "source": [
    "import math\n"
   ]
  },
  {
   "cell_type": "markdown",
   "metadata": {},
   "source": [
    "## 字符串和字符\n",
    "- 在Python中，字符串必须是在单引号或者双引号内，在多段换行的字符串中可以使用“”“\n",
    "- 在使用”“”时，给予其变量则变为字符串，否则当多行注释使用"
   ]
  },
  {
   "cell_type": "code",
   "execution_count": 35,
   "metadata": {},
   "outputs": [
    {
     "name": "stdout",
     "output_type": "stream",
     "text": [
      "37\n"
     ]
    }
   ],
   "source": [
    "c='''\n",
    "asdadasdasd\n",
    "asdasdadasd\n",
    "adsasdadads\n",
    "'''\n",
    "a=0\n",
    "for i in c:\n",
    "    a +=1 \n",
    "print(a)"
   ]
  },
  {
   "cell_type": "markdown",
   "metadata": {},
   "source": [
    "## ASCII码与Unicode码\n",
    "- <img src=\"../Photo/19.png\"></img>\n",
    "- <img src=\"../Photo/20.png\"></img>\n",
    "- <img src=\"../Photo/21.png\"></img>"
   ]
  },
  {
   "cell_type": "code",
   "execution_count": null,
   "metadata": {},
   "outputs": [],
   "source": [
    "a='aaaaaaaaaaaaaaaaaaaaaaaaaaaaaaaaaaaaaaaaaaadaaaaaaaaaaaaaaaaaaaaaaaaaaaaaaaaaaaaaaaaaaaaaaaaaaaaaaz'"
   ]
  },
  {
   "cell_type": "markdown",
   "metadata": {},
   "source": [
    "## 函数ord、chr\n",
    "- ord 返回ASCII码值\n",
    "- chr 返回字符"
   ]
  },
  {
   "cell_type": "code",
   "execution_count": 47,
   "metadata": {},
   "outputs": [
    {
     "name": "stdout",
     "output_type": "stream",
     "text": [
      "kplfs"
     ]
    }
   ],
   "source": [
    "joker = 'joker'\n",
    "for i in joker:\n",
    "    print((chr(ord(i)+1)),end='')"
   ]
  },
  {
   "cell_type": "markdown",
   "metadata": {},
   "source": [
    "## EP:\n",
    "- 利用ord与chr进行简单邮箱加密"
   ]
  },
  {
   "cell_type": "markdown",
   "metadata": {},
   "source": [
    "## 转义序列 \\\n",
    "- a = \"He said,\"Johon's program is easy to read\"\"\n",
    "- 转掉原来的意思\n",
    "- 一般情况下，只有当语句与默认语句相撞的时候，就需要转义"
   ]
  },
  {
   "cell_type": "code",
   "execution_count": 49,
   "metadata": {},
   "outputs": [
    {
     "ename": "SyntaxError",
     "evalue": "EOL while scanning string literal (<ipython-input-49-7e0cd0df07ce>, line 1)",
     "output_type": "error",
     "traceback": [
      "\u001b[1;36m  File \u001b[1;32m\"<ipython-input-49-7e0cd0df07ce>\"\u001b[1;36m, line \u001b[1;32m1\u001b[0m\n\u001b[1;33m    a = \"He said,\\\"Johon's program is easy to read\"\"\u001b[0m\n\u001b[1;37m                                                    ^\u001b[0m\n\u001b[1;31mSyntaxError\u001b[0m\u001b[1;31m:\u001b[0m EOL while scanning string literal\n"
     ]
    }
   ],
   "source": [
    "a = \"He said,\\\"Johon's program is easy to read\"\"\n",
    "print(a)"
   ]
  },
  {
   "cell_type": "markdown",
   "metadata": {},
   "source": [
    "## 高级print\n",
    "- 参数 end： 以什么方式结束打印\n",
    "- 默认换行打印"
   ]
  },
  {
   "cell_type": "markdown",
   "metadata": {},
   "source": [
    "## 函数str\n",
    "- 将类型强制转换成字符串类型\n",
    "- 其他一些以后会学到(list,set,tuple...)"
   ]
  },
  {
   "cell_type": "markdown",
   "metadata": {},
   "source": [
    "## 字符串连接操作\n",
    "- 直接使用 “+” \n",
    "- join() 函数 "
   ]
  },
  {
   "cell_type": "code",
   "execution_count": 4,
   "metadata": {},
   "outputs": [
    {
     "name": "stdout",
     "output_type": "stream",
     "text": [
      "https://blog.csdn.net/xxkkff/article/details/4411441:0\n",
      "https://blog.csdn.net/xxkkff/article/details/4411441:1\n",
      "https://blog.csdn.net/xxkkff/article/details/4411441:2\n",
      "https://blog.csdn.net/xxkkff/article/details/4411441:3\n",
      "https://blog.csdn.net/xxkkff/article/details/4411441:4\n",
      "https://blog.csdn.net/xxkkff/article/details/4411441:5\n",
      "https://blog.csdn.net/xxkkff/article/details/4411441:6\n",
      "https://blog.csdn.net/xxkkff/article/details/4411441:7\n",
      "https://blog.csdn.net/xxkkff/article/details/4411441:8\n",
      "https://blog.csdn.net/xxkkff/article/details/4411441:9\n"
     ]
    }
   ],
   "source": [
    "for i in range(10):\n",
    "    url='https://blog.csdn.net/xxkkff/article/details/4411441:'\n",
    "    url1= ''.join(((url,str(i))))                           \n",
    "    print(url1)"
   ]
  },
  {
   "cell_type": "markdown",
   "metadata": {},
   "source": [
    "## EP：\n",
    "- 将 “Welcome” “to” \"Python\" 拼接\n",
    "- 将int型 100 与 “joker is a bad man” 拼接\n",
    "- 从控制台读取字符串\n",
    "> 输入一个名字返回夸奖此人是一个帅哥"
   ]
  },
  {
   "cell_type": "code",
   "execution_count": 6,
   "metadata": {},
   "outputs": [
    {
     "name": "stdout",
     "output_type": "stream",
     "text": [
      "WelcometoPython\n"
     ]
    }
   ],
   "source": [
    "asd='Welcome'+'to'+'Python'\n",
    "print(asd)"
   ]
  },
  {
   "cell_type": "code",
   "execution_count": 7,
   "metadata": {},
   "outputs": [
    {
     "data": {
      "text/plain": [
       "'100joker is a bad man'"
      ]
     },
     "execution_count": 7,
     "metadata": {},
     "output_type": "execute_result"
    }
   ],
   "source": [
    "''.join((str(100),'joker is a bad man'))"
   ]
  },
  {
   "cell_type": "code",
   "execution_count": null,
   "metadata": {},
   "outputs": [],
   "source": []
  },
  {
   "cell_type": "code",
   "execution_count": 2,
   "metadata": {},
   "outputs": [
    {
     "ename": "NameError",
     "evalue": "name 'mm1' is not defined",
     "output_type": "error",
     "traceback": [
      "\u001b[1;31m---------------------------------------------------------------------------\u001b[0m",
      "\u001b[1;31mNameError\u001b[0m                                 Traceback (most recent call last)",
      "\u001b[1;32m<ipython-input-2-2a5893438656>\u001b[0m in \u001b[0;36m<module>\u001b[1;34m()\u001b[0m\n\u001b[0;32m      2\u001b[0m \u001b[1;32mfor\u001b[0m \u001b[0mi\u001b[0m \u001b[1;32min\u001b[0m \u001b[0mjoker\u001b[0m\u001b[1;33m:\u001b[0m\u001b[1;33m\u001b[0m\u001b[0m\n\u001b[0;32m      3\u001b[0m     \u001b[0mmm\u001b[0m\u001b[1;33m=\u001b[0m\u001b[1;33m(\u001b[0m\u001b[0mchr\u001b[0m\u001b[1;33m(\u001b[0m\u001b[0mord\u001b[0m\u001b[1;33m(\u001b[0m\u001b[0mi\u001b[0m\u001b[1;33m)\u001b[0m\u001b[1;33m+\u001b[0m\u001b[1;36m1\u001b[0m\u001b[1;33m)\u001b[0m\u001b[1;33m)\u001b[0m\u001b[1;33m\u001b[0m\u001b[0m\n\u001b[1;32m----> 4\u001b[1;33m     \u001b[0mmm1\u001b[0m\u001b[1;33m=\u001b[0m\u001b[1;34m''\u001b[0m\u001b[1;33m.\u001b[0m\u001b[0mjoin\u001b[0m\u001b[1;33m(\u001b[0m\u001b[1;33m(\u001b[0m\u001b[0mmm1\u001b[0m\u001b[1;33m,\u001b[0m\u001b[0mmm\u001b[0m\u001b[1;33m)\u001b[0m\u001b[1;33m)\u001b[0m\u001b[1;33m\u001b[0m\u001b[0m\n\u001b[0m\u001b[0;32m      5\u001b[0m \u001b[0mprint\u001b[0m\u001b[1;33m(\u001b[0m\u001b[0mmm2\u001b[0m\u001b[1;33m)\u001b[0m\u001b[1;33m\u001b[0m\u001b[0m\n\u001b[0;32m      6\u001b[0m \u001b[1;32mfor\u001b[0m \u001b[0mi\u001b[0m \u001b[1;32min\u001b[0m \u001b[0mmm1\u001b[0m\u001b[1;33m:\u001b[0m\u001b[1;33m\u001b[0m\u001b[0m\n",
      "\u001b[1;31mNameError\u001b[0m: name 'mm1' is not defined"
     ]
    }
   ],
   "source": [
    "joker = 'joker'\n",
    "for i in joker:\n",
    "    mm=(chr(ord(i)+1))\n",
    "    mm1=''.join((mm1,mm))\n",
    "print(mm2)\n",
    "for i in mm1:\n",
    "    nn=(chr(ord(i)-1))\n",
    "    print(nn,end='')"
   ]
  },
  {
   "cell_type": "markdown",
   "metadata": {},
   "source": [
    "## 实例研究：最小数量硬币\n",
    "- 开发一个程序，让用户输入总金额，这是一个用美元和美分表示的浮点值，返回一个由美元、两角五分的硬币、一角的硬币、五分硬币、以及美分个数\n",
    "<img src=\"../Photo/22.png\"></img>"
   ]
  },
  {
   "cell_type": "markdown",
   "metadata": {},
   "source": [
    "- Python弱项，对于浮点型的处理并不是很好，但是处理数据的时候使用的是Numpy类型\n",
    "<img src=\"../Photo/23.png\"></img>"
   ]
  },
  {
   "cell_type": "markdown",
   "metadata": {},
   "source": [
    "## id与type\n",
    "- id 查看内存地址，在判断语句中将会使用\n",
    "- type 查看元素类型"
   ]
  },
  {
   "cell_type": "markdown",
   "metadata": {},
   "source": [
    "## 其他格式化语句见书"
   ]
  },
  {
   "cell_type": "markdown",
   "metadata": {},
   "source": [
    "# Homework\n",
    "- 1\n",
    "<img src=\"../Photo/24.png\"><img>\n",
    "<img src=\"../Photo/25.png\"><img>"
   ]
  },
  {
   "cell_type": "code",
   "execution_count": 3,
   "metadata": {},
   "outputs": [
    {
     "name": "stdout",
     "output_type": "stream",
     "text": [
      "enter the length from the center to a vertex5.5\n",
      "the area of the pentagon is   71.92\n"
     ]
    }
   ],
   "source": [
    "import math\n",
    "r = eval(input('enter the length from the center to a vertex'))\n",
    "s=2*r*math.sin(math.pi/5)\n",
    "Area = round(5*s*s/(4*math.tan(math.pi/5)),2)\n",
    "print('the area of the pentagon is  ',Area)"
   ]
  },
  {
   "cell_type": "markdown",
   "metadata": {},
   "source": [
    "- 2\n",
    "<img src=\"../Photo/26.png\"><img>"
   ]
  },
  {
   "cell_type": "code",
   "execution_count": 10,
   "metadata": {},
   "outputs": [
    {
     "name": "stdout",
     "output_type": "stream",
     "text": [
      "enter point 1 in degress:39.55,-116.25\n",
      "enter point 2 in degress:41.5,87.37\n",
      "10019.478282773487\n"
     ]
    }
   ],
   "source": [
    "import math\n",
    "x1,y1 = eval(input('enter point 1 in degress:'))\n",
    "x2,y2 = eval(input('enter point 2 in degress:'))\n",
    "radius = 6371.01\n",
    "d = radius * math.acos(math.radians(math.sin(math.radians(x1))*math.sin(math.radians(x2))+math.cos(math.radians(x1))*math.cos(math.radians(x2))*math.cos(math.radians(y1)-math.radians(y2))))\n",
    "print(d)"
   ]
  },
  {
   "cell_type": "markdown",
   "metadata": {},
   "source": [
    "- 3\n",
    "<img src=\"../Photo/27.png\"><img>"
   ]
  },
  {
   "cell_type": "code",
   "execution_count": 13,
   "metadata": {},
   "outputs": [
    {
     "name": "stdout",
     "output_type": "stream",
     "text": [
      "enter the side5.5\n",
      "52.044441367816255\n"
     ]
    }
   ],
   "source": [
    "import math\n",
    "s = eval(input('enter the side'))\n",
    "Area = 5*pow(s,2)/(4*math.tan(math.pi/5))\n",
    "print(Area)"
   ]
  },
  {
   "cell_type": "markdown",
   "metadata": {},
   "source": [
    "- 4\n",
    "<img src=\"../Photo/28.png\"><img>"
   ]
  },
  {
   "cell_type": "code",
   "execution_count": 15,
   "metadata": {},
   "outputs": [
    {
     "name": "stdout",
     "output_type": "stream",
     "text": [
      "enter the number of side5\n",
      "enter the side 6.5\n",
      "72.69017017488386\n"
     ]
    }
   ],
   "source": [
    "import math\n",
    "n = eval(input('enter the number of side'))\n",
    "s = eval(input('enter the side '))\n",
    "Area = n*pow(s,2)/(4*math.tan(math.pi/n))\n",
    "print (Area)"
   ]
  },
  {
   "cell_type": "markdown",
   "metadata": {},
   "source": [
    "- 5\n",
    "<img src=\"../Photo/29.png\"><img>\n",
    "<img src=\"../Photo/30.png\"><img>"
   ]
  },
  {
   "cell_type": "code",
   "execution_count": 16,
   "metadata": {},
   "outputs": [
    {
     "name": "stdout",
     "output_type": "stream",
     "text": [
      "enter an ASCII code69\n",
      "E\n"
     ]
    }
   ],
   "source": [
    "n = eval(input('enter an ASCII code'))\n",
    "print(chr(n))"
   ]
  },
  {
   "cell_type": "markdown",
   "metadata": {},
   "source": [
    "- 6\n",
    "<img src=\"../Photo/31.png\"><img>"
   ]
  },
  {
   "cell_type": "code",
   "execution_count": 4,
   "metadata": {},
   "outputs": [
    {
     "name": "stdout",
     "output_type": "stream",
     "text": [
      "enter name:smith\n",
      "enter number of hours worked in a week:10\n",
      "enter hourly pay rate:9.75\n",
      "enter federal tax withholding rate:0.20\n",
      "enter state tax withholding rate:0.09\n",
      "name: smith\n",
      "hour: 10\n",
      "pay rate:$ 9.75\n",
      "gross pay:$ 97.5\n",
      "deductions:\n",
      "  federal withholding(20.0%):$ 19.5\n",
      "  state withholding(9.0%):$ 8.775\n",
      "  total deduction:$ 28.275\n",
      "net pay:$ 69.225\n"
     ]
    }
   ],
   "source": [
    "import math\n",
    "name = str(input('enter name:'))\n",
    "num =eval(input('enter number of hours worked in a week:'))\n",
    "money = eval(input('enter hourly pay rate:'))\n",
    "lb = eval(input('enter federal tax withholding rate:'))\n",
    "zh = eval(input('enter state tax withholding rate:'))\n",
    "gp = num*money\n",
    "fw = gp*lb\n",
    "sw = gp*zh\n",
    "td = fw+sw\n",
    "np = gp-td\n",
    "print('name:',name)\n",
    "print('hour:',num)\n",
    "print('pay rate:$',money)\n",
    "print('gross pay:$',gp)\n",
    "print('deductions:')\n",
    "print('  federal withholding(20.0%):$',fw)\n",
    "print('  state withholding(9.0%):$',sw)\n",
    "print('  total deduction:$',td)\n",
    "print('net pay:$',np)"
   ]
  },
  {
   "cell_type": "markdown",
   "metadata": {},
   "source": [
    "- 7\n",
    "<img src=\"../Photo/32.png\"><img>"
   ]
  },
  {
   "cell_type": "code",
   "execution_count": 5,
   "metadata": {},
   "outputs": [
    {
     "name": "stdout",
     "output_type": "stream",
     "text": [
      "asd 3125\n",
      "5213\n"
     ]
    }
   ],
   "source": [
    "num = input('asd ')\n",
    "num1=''\n",
    "for i in num:\n",
    "    num1 = i + num1\n",
    "print(num1)"
   ]
  },
  {
   "cell_type": "markdown",
   "metadata": {},
   "source": [
    "- 8 进阶：\n",
    "> 加密一串文本，并将解密后的文件写入本地保存"
   ]
  },
  {
   "cell_type": "code",
   "execution_count": 11,
   "metadata": {},
   "outputs": [
    {
     "name": "stdout",
     "output_type": "stream",
     "text": [
      "加密之后的信息为： nbpnbpdipohA274/dpn\n",
      "解密之后的信息为： maomaochong@163.com\n"
     ]
    }
   ],
   "source": [
    "email = 'maomaochong@163.com'  # 邮箱加密过程\n",
    "\n",
    "re_text = ''\n",
    "for i in email:\n",
    "    text = ord(i) + 1\n",
    "    re_text = ''.join((re_text, chr(text)))\n",
    "print('加密之后的信息为：', re_text)\n",
    "\n",
    "reves_text = ''\n",
    "for i in re_text:\n",
    "    text = ord(i) - 1\n",
    "    reves_text = ''.join((reves_text, chr(text)))\n",
    "print('解密之后的信息为：', reves_text)\n",
    "\n",
    "outputfile = open(\"day02.txt\",'w')\n",
    "outputfile.write(reves_text)\n",
    "outputfile.close()"
   ]
  }
 ],
 "metadata": {
  "kernelspec": {
   "display_name": "Python 3",
   "language": "python",
   "name": "python3"
  },
  "language_info": {
   "codemirror_mode": {
    "name": "ipython",
    "version": 3
   },
   "file_extension": ".py",
   "mimetype": "text/x-python",
   "name": "python",
   "nbconvert_exporter": "python",
   "pygments_lexer": "ipython3",
   "version": "3.6.4"
  }
 },
 "nbformat": 4,
 "nbformat_minor": 2
}
